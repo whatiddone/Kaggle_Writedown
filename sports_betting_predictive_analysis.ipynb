{
 "cells": [
  {
   "cell_type": "markdown",
   "id": "caa6471c",
   "metadata": {},
   "source": [
    "https://www.kaggle.com/datasets/pratyushpuri/sports-betting-predictive-analysis-dataset"
   ]
  },
  {
   "cell_type": "markdown",
   "id": "d74977cd",
   "metadata": {},
   "source": [
    "## 1. Dataset Information"
   ]
  },
  {
   "cell_type": "markdown",
   "id": "669122d4",
   "metadata": {},
   "source": [
    "This comprehensive synthetic dataset contains 1,369 rows and 10 columns specifically designed for predictive modeling in sports betting analytics. The dataset provides a rich foundation for machine learning applications in the sports betting domain, featuring realistic match data across multiple sports with comprehensive betting odds, team information, and outcome predictions."
   ]
  },
  {
   "cell_type": "markdown",
   "id": "9774c6a6",
   "metadata": {},
   "source": [
    "## 2. Exploratory Data Analysis"
   ]
  },
  {
   "cell_type": "code",
   "execution_count": 1,
   "id": "f5df292b",
   "metadata": {},
   "outputs": [],
   "source": [
    "import pandas as pd\n",
    "import numpy as np\n",
    "import matplotlib.pyplot as plt\n",
    "import seaborn as sns\n",
    "\n",
    "# 한글꺠짐방지\n",
    "plt.rcParams['font.family'] = 'Malgun Gothic'\n",
    "plt.rcParams['axes.unicode_minus'] = False"
   ]
  },
  {
   "cell_type": "code",
   "execution_count": 2,
   "id": "cc057105",
   "metadata": {},
   "outputs": [],
   "source": [
    "df = pd.read_csv(\"G:\\내 드라이브\\DArtB\\Kaggle Study\\Sports_Betting_Predictive_Analysis\\sports_betting_predictive_analysis.csv\")"
   ]
  },
  {
   "cell_type": "code",
   "execution_count": 3,
   "id": "c8ac91e4",
   "metadata": {},
   "outputs": [
    {
     "data": {
      "text/html": [
       "<div>\n",
       "<style scoped>\n",
       "    .dataframe tbody tr th:only-of-type {\n",
       "        vertical-align: middle;\n",
       "    }\n",
       "\n",
       "    .dataframe tbody tr th {\n",
       "        vertical-align: top;\n",
       "    }\n",
       "\n",
       "    .dataframe thead th {\n",
       "        text-align: right;\n",
       "    }\n",
       "</style>\n",
       "<table border=\"1\" class=\"dataframe\">\n",
       "  <thead>\n",
       "    <tr style=\"text-align: right;\">\n",
       "      <th></th>\n",
       "      <th>Match_ID</th>\n",
       "      <th>Date</th>\n",
       "      <th>Sport</th>\n",
       "      <th>Home_Team</th>\n",
       "      <th>Away_Team</th>\n",
       "      <th>Home_Team_Odds</th>\n",
       "      <th>Away_Team_Odds</th>\n",
       "      <th>Draw_Odds</th>\n",
       "      <th>Predicted_Winner</th>\n",
       "      <th>Actual_Winner</th>\n",
       "    </tr>\n",
       "  </thead>\n",
       "  <tbody>\n",
       "    <tr>\n",
       "      <th>0</th>\n",
       "      <td>M00001</td>\n",
       "      <td>2024-01-24</td>\n",
       "      <td>Basketball</td>\n",
       "      <td>Gonzalezmouth Tigers</td>\n",
       "      <td>Hernandezfurt Lions</td>\n",
       "      <td>3.62</td>\n",
       "      <td>3.99</td>\n",
       "      <td>NaN</td>\n",
       "      <td>Hernandezfurt Lions</td>\n",
       "      <td>Hernandezfurt Lions</td>\n",
       "    </tr>\n",
       "    <tr>\n",
       "      <th>1</th>\n",
       "      <td>M00002</td>\n",
       "      <td>2025-05-03</td>\n",
       "      <td>Basketball</td>\n",
       "      <td>Rothstad Wolves</td>\n",
       "      <td>North Manuel Eagles</td>\n",
       "      <td>1.84</td>\n",
       "      <td>NaN</td>\n",
       "      <td>NaN</td>\n",
       "      <td>Rothstad Wolves</td>\n",
       "      <td>Rothstad Wolves</td>\n",
       "    </tr>\n",
       "    <tr>\n",
       "      <th>2</th>\n",
       "      <td>M00003</td>\n",
       "      <td>2025-04-10</td>\n",
       "      <td>Baseball</td>\n",
       "      <td>Aliciaport Lions</td>\n",
       "      <td>West Gabrielton Lions</td>\n",
       "      <td>3.93</td>\n",
       "      <td>3.29</td>\n",
       "      <td>NaN</td>\n",
       "      <td>Aliciaport Lions</td>\n",
       "      <td>Aliciaport Lions</td>\n",
       "    </tr>\n",
       "    <tr>\n",
       "      <th>3</th>\n",
       "      <td>M00004</td>\n",
       "      <td>2024-08-02</td>\n",
       "      <td>Tennis</td>\n",
       "      <td>Lake Samantha Eagles</td>\n",
       "      <td>Simonshire Lions</td>\n",
       "      <td>3.70</td>\n",
       "      <td>3.61</td>\n",
       "      <td>NaN</td>\n",
       "      <td>Simonshire Lions</td>\n",
       "      <td>Lake Samantha Eagles</td>\n",
       "    </tr>\n",
       "    <tr>\n",
       "      <th>4</th>\n",
       "      <td>M00005</td>\n",
       "      <td>2024-10-05</td>\n",
       "      <td>Tennis</td>\n",
       "      <td>Brendanport Eagles</td>\n",
       "      <td>Williamsfurt Bears</td>\n",
       "      <td>2.26</td>\n",
       "      <td>2.52</td>\n",
       "      <td>NaN</td>\n",
       "      <td>Williamsfurt Bears</td>\n",
       "      <td>Brendanport Eagles</td>\n",
       "    </tr>\n",
       "  </tbody>\n",
       "</table>\n",
       "</div>"
      ],
      "text/plain": [
       "  Match_ID        Date       Sport             Home_Team  \\\n",
       "0   M00001  2024-01-24  Basketball  Gonzalezmouth Tigers   \n",
       "1   M00002  2025-05-03  Basketball       Rothstad Wolves   \n",
       "2   M00003  2025-04-10    Baseball      Aliciaport Lions   \n",
       "3   M00004  2024-08-02      Tennis  Lake Samantha Eagles   \n",
       "4   M00005  2024-10-05      Tennis    Brendanport Eagles   \n",
       "\n",
       "               Away_Team  Home_Team_Odds  Away_Team_Odds  Draw_Odds  \\\n",
       "0    Hernandezfurt Lions            3.62            3.99        NaN   \n",
       "1    North Manuel Eagles            1.84             NaN        NaN   \n",
       "2  West Gabrielton Lions            3.93            3.29        NaN   \n",
       "3       Simonshire Lions            3.70            3.61        NaN   \n",
       "4     Williamsfurt Bears            2.26            2.52        NaN   \n",
       "\n",
       "      Predicted_Winner         Actual_Winner  \n",
       "0  Hernandezfurt Lions   Hernandezfurt Lions  \n",
       "1      Rothstad Wolves       Rothstad Wolves  \n",
       "2     Aliciaport Lions      Aliciaport Lions  \n",
       "3     Simonshire Lions  Lake Samantha Eagles  \n",
       "4   Williamsfurt Bears    Brendanport Eagles  "
      ]
     },
     "execution_count": 3,
     "metadata": {},
     "output_type": "execute_result"
    }
   ],
   "source": [
    "df.head()"
   ]
  },
  {
   "cell_type": "code",
   "execution_count": 8,
   "id": "3a4a818b",
   "metadata": {},
   "outputs": [
    {
     "data": {
      "text/plain": [
       "(1369, 10)"
      ]
     },
     "execution_count": 8,
     "metadata": {},
     "output_type": "execute_result"
    }
   ],
   "source": [
    "df.shape"
   ]
  },
  {
   "cell_type": "code",
   "execution_count": 4,
   "id": "dc700f02",
   "metadata": {},
   "outputs": [
    {
     "name": "stdout",
     "output_type": "stream",
     "text": [
      "<class 'pandas.core.frame.DataFrame'>\n",
      "RangeIndex: 1369 entries, 0 to 1368\n",
      "Data columns (total 10 columns):\n",
      " #   Column            Non-Null Count  Dtype  \n",
      "---  ------            --------------  -----  \n",
      " 0   Match_ID          1369 non-null   object \n",
      " 1   Date              1369 non-null   object \n",
      " 2   Sport             1369 non-null   object \n",
      " 3   Home_Team         1369 non-null   object \n",
      " 4   Away_Team         1369 non-null   object \n",
      " 5   Home_Team_Odds    1298 non-null   float64\n",
      " 6   Away_Team_Odds    1282 non-null   float64\n",
      " 7   Draw_Odds         498 non-null    float64\n",
      " 8   Predicted_Winner  1369 non-null   object \n",
      " 9   Actual_Winner     1369 non-null   object \n",
      "dtypes: float64(3), object(7)\n",
      "memory usage: 107.1+ KB\n"
     ]
    }
   ],
   "source": [
    "df.info()"
   ]
  },
  {
   "cell_type": "code",
   "execution_count": 5,
   "id": "4fad191f",
   "metadata": {},
   "outputs": [
    {
     "data": {
      "text/html": [
       "<div>\n",
       "<style scoped>\n",
       "    .dataframe tbody tr th:only-of-type {\n",
       "        vertical-align: middle;\n",
       "    }\n",
       "\n",
       "    .dataframe tbody tr th {\n",
       "        vertical-align: top;\n",
       "    }\n",
       "\n",
       "    .dataframe thead th {\n",
       "        text-align: right;\n",
       "    }\n",
       "</style>\n",
       "<table border=\"1\" class=\"dataframe\">\n",
       "  <thead>\n",
       "    <tr style=\"text-align: right;\">\n",
       "      <th></th>\n",
       "      <th>Home_Team_Odds</th>\n",
       "      <th>Away_Team_Odds</th>\n",
       "      <th>Draw_Odds</th>\n",
       "    </tr>\n",
       "  </thead>\n",
       "  <tbody>\n",
       "    <tr>\n",
       "      <th>count</th>\n",
       "      <td>1298.000000</td>\n",
       "      <td>1282.000000</td>\n",
       "      <td>498.000000</td>\n",
       "    </tr>\n",
       "    <tr>\n",
       "      <th>mean</th>\n",
       "      <td>3.069823</td>\n",
       "      <td>3.060031</td>\n",
       "      <td>3.103012</td>\n",
       "    </tr>\n",
       "    <tr>\n",
       "      <th>std</th>\n",
       "      <td>1.096600</td>\n",
       "      <td>1.087785</td>\n",
       "      <td>1.098248</td>\n",
       "    </tr>\n",
       "    <tr>\n",
       "      <th>min</th>\n",
       "      <td>1.200000</td>\n",
       "      <td>1.210000</td>\n",
       "      <td>1.200000</td>\n",
       "    </tr>\n",
       "    <tr>\n",
       "      <th>25%</th>\n",
       "      <td>2.110000</td>\n",
       "      <td>2.130000</td>\n",
       "      <td>2.142500</td>\n",
       "    </tr>\n",
       "    <tr>\n",
       "      <th>50%</th>\n",
       "      <td>3.080000</td>\n",
       "      <td>2.995000</td>\n",
       "      <td>3.160000</td>\n",
       "    </tr>\n",
       "    <tr>\n",
       "      <th>75%</th>\n",
       "      <td>3.980000</td>\n",
       "      <td>4.017500</td>\n",
       "      <td>4.062500</td>\n",
       "    </tr>\n",
       "    <tr>\n",
       "      <th>max</th>\n",
       "      <td>4.980000</td>\n",
       "      <td>5.000000</td>\n",
       "      <td>4.990000</td>\n",
       "    </tr>\n",
       "  </tbody>\n",
       "</table>\n",
       "</div>"
      ],
      "text/plain": [
       "       Home_Team_Odds  Away_Team_Odds   Draw_Odds\n",
       "count     1298.000000     1282.000000  498.000000\n",
       "mean         3.069823        3.060031    3.103012\n",
       "std          1.096600        1.087785    1.098248\n",
       "min          1.200000        1.210000    1.200000\n",
       "25%          2.110000        2.130000    2.142500\n",
       "50%          3.080000        2.995000    3.160000\n",
       "75%          3.980000        4.017500    4.062500\n",
       "max          4.980000        5.000000    4.990000"
      ]
     },
     "execution_count": 5,
     "metadata": {},
     "output_type": "execute_result"
    }
   ],
   "source": [
    "df.describe()"
   ]
  },
  {
   "cell_type": "code",
   "execution_count": 9,
   "id": "92ae0830",
   "metadata": {},
   "outputs": [
    {
     "data": {
      "text/plain": [
       "Match_ID              0\n",
       "Date                  0\n",
       "Sport                 0\n",
       "Home_Team             0\n",
       "Away_Team             0\n",
       "Home_Team_Odds       71\n",
       "Away_Team_Odds       87\n",
       "Draw_Odds           871\n",
       "Predicted_Winner      0\n",
       "Actual_Winner         0\n",
       "dtype: int64"
      ]
     },
     "execution_count": 9,
     "metadata": {},
     "output_type": "execute_result"
    }
   ],
   "source": [
    "df.isnull().sum()"
   ]
  },
  {
   "cell_type": "code",
   "execution_count": 11,
   "id": "ec1206ec",
   "metadata": {},
   "outputs": [
    {
     "data": {
      "text/plain": [
       "Sport\n",
       "Basketball    292\n",
       "Tennis        278\n",
       "Baseball      271\n",
       "Football      270\n",
       "Hockey        258\n",
       "Name: count, dtype: int64"
      ]
     },
     "execution_count": 11,
     "metadata": {},
     "output_type": "execute_result"
    }
   ],
   "source": [
    "df['Sport'].value_counts()"
   ]
  },
  {
   "cell_type": "code",
   "execution_count": 12,
   "id": "75c10bb3",
   "metadata": {},
   "outputs": [
    {
     "data": {
      "text/plain": [
       "Index(['Match_ID', 'Date', 'Sport', 'Home_Team', 'Away_Team', 'Home_Team_Odds',\n",
       "       'Away_Team_Odds', 'Draw_Odds', 'Predicted_Winner', 'Actual_Winner'],\n",
       "      dtype='object')"
      ]
     },
     "execution_count": 12,
     "metadata": {},
     "output_type": "execute_result"
    }
   ],
   "source": [
    "df.columns"
   ]
  },
  {
   "cell_type": "markdown",
   "id": "1c14ce81",
   "metadata": {},
   "source": [
    "### 2-1. EDA through visualization"
   ]
  },
  {
   "cell_type": "code",
   "execution_count": 13,
   "id": "d0e4ff5b",
   "metadata": {},
   "outputs": [
    {
     "name": "stderr",
     "output_type": "stream",
     "text": [
      "C:\\Users\\luke\\AppData\\Local\\Temp\\ipykernel_34604\\58529365.py:6: FutureWarning: \n",
      "\n",
      "Passing `palette` without assigning `hue` is deprecated and will be removed in v0.14.0. Assign the `x` variable to `hue` and set `legend=False` for the same effect.\n",
      "\n",
      "  sns.barplot(x=sport_counts.index, y=sport_counts.values, palette='viridis')\n"
     ]
    },
    {
     "data": {
      "image/png": "[encoded data removed]",
      "text/plain": [
       "<Figure size 1000x600 with 1 Axes>"
      ]
     },
     "metadata": {},
     "output_type": "display_data"
    }
   ],
   "source": [
    "# df['Sport'] 컬럼의 각 고유값(스포츠 종목)의 빈도수를 계산합니다.\n",
    "sport_counts = df['Sport'].value_counts()\n",
    "\n",
    "# 막대 그래프를 그립니다.\n",
    "plt.figure(figsize=(10, 6)) # 그래프 크기 설정\n",
    "sns.barplot(x=sport_counts.index, y=sport_counts.values, palette='viridis')\n",
    "\n",
    "# 그래프 제목과 축 라벨 설정\n",
    "plt.title('데이터셋 내 스포츠 종목별 경기 수', fontsize=16)\n",
    "plt.xlabel('스포츠 종목', fontsize=12)\n",
    "plt.ylabel('경기 수', fontsize=12)\n",
    "\n",
    "# Y축의 값을 정수형으로 표시 (경기 수는 정수이므로)\n",
    "plt.yticks(np.arange(0, max(sport_counts.values) + 100, 100)) # 0부터 최대값까지 100 단위로 눈금 설정\n",
    "plt.ticklabel_format(style='plain', axis='y') # 지수 표기법 방지\n",
    "\n",
    "# 각 막대 위에 정확한 경기 수 표시\n",
    "for index, value in enumerate(sport_counts.values):\n",
    "    plt.text(index, value + 10, str(value), ha='center', va='bottom', fontsize=10) # 막대 위에 텍스트 추가\n",
    "\n",
    "plt.tight_layout() # 그래프 요소들이 겹치지 않도록 자동 조정\n",
    "plt.show() # 그래프 표시"
   ]
  },
  {
   "cell_type": "code",
   "execution_count": 14,
   "id": "394e09d1",
   "metadata": {},
   "outputs": [
    {
     "name": "stdout",
     "output_type": "stream",
     "text": [
      "Prediction Accuracy: 43.97%\n"
     ]
    }
   ],
   "source": [
    "accuracy = (df['Predicted_Winner'] == df['Actual_Winner']).mean() * 100\n",
    "print(f\"Prediction Accuracy: {accuracy:.2f}%\")"
   ]
  },
  {
   "cell_type": "code",
   "execution_count": 16,
   "id": "958a5081",
   "metadata": {},
   "outputs": [
    {
     "name": "stdout",
     "output_type": "stream",
     "text": [
      "스포츠 종목별 예측 정확도:\n",
      "------------------------------\n",
      "Basketball: 51.71%\n",
      "Baseball: 52.77%\n",
      "Tennis: 47.84%\n",
      "Hockey: 31.78%\n",
      "Football: 34.44%\n",
      "------------------------------\n"
     ]
    },
    {
     "name": "stderr",
     "output_type": "stream",
     "text": [
      "C:\\Users\\luke\\AppData\\Local\\Temp\\ipykernel_34604\\3238117123.py:31: FutureWarning: \n",
      "\n",
      "Passing `palette` without assigning `hue` is deprecated and will be removed in v0.14.0. Assign the `x` variable to `hue` and set `legend=False` for the same effect.\n",
      "\n",
      "  sns.barplot(x=sport_accuracy_series.index, y=sport_accuracy_series.values, palette='coolwarm')\n"
     ]
    },
    {
     "data": {
      "image/png": "[encoded data removed]",
      "text/plain": [
       "<Figure size 1000x600 with 1 Axes>"
      ]
     },
     "metadata": {},
     "output_type": "display_data"
    }
   ],
   "source": [
    "# 스포츠 종목별 정확도를 저장할 딕셔너리 초기화\n",
    "sport_accuracy = {}\n",
    "\n",
    "# 'Sport' 컬럼의 고유한 값(즉, 각 스포츠 종목)들을 가져옵니다.\n",
    "unique_sports = df['Sport'].unique()\n",
    "\n",
    "print(\"스포츠 종목별 예측 정확도:\")\n",
    "print(\"-\" * 30)\n",
    "\n",
    "# 각 스포츠 종목에 대해 반복합니다.\n",
    "for sport in unique_sports:\n",
    "    # 현재 스포츠 종목에 해당하는 데이터만 필터링합니다.\n",
    "    df_sport = df[df['Sport'] == sport]\n",
    "\n",
    "    # 해당 스포츠 종목 내에서 'Predicted_Winner'와 'Actual_Winner'가 일치하는 비율을 계산합니다.\n",
    "    # (df_sport['Predicted_Winner'] == df_sport['Actual_Winner'])는 True/False 시리즈를 반환하고,\n",
    "    # .mean()은 True(1)의 비율을 계산하여 정확도를 얻습니다.\n",
    "    accuracy = (df_sport['Predicted_Winner'] == df_sport['Actual_Winner']).mean() * 100\n",
    "\n",
    "    # 결과를 딕셔너리에 저장하고 출력합니다.\n",
    "    sport_accuracy[sport] = accuracy\n",
    "    print(f\"{sport}: {accuracy:.2f}%\")\n",
    "\n",
    "print(\"-\" * 30)\n",
    "\n",
    "# (옵션) 스포츠 종목별 정확도를 시각화하여 비교하기 쉽게 할 수도 있습니다.\n",
    "# 위에서 구한 sport_accuracy 딕셔너리를 Pandas Series로 변환\n",
    "sport_accuracy_series = pd.Series(sport_accuracy).sort_values(ascending=False)\n",
    "\n",
    "plt.figure(figsize=(10, 6))\n",
    "sns.barplot(x=sport_accuracy_series.index, y=sport_accuracy_series.values, palette='coolwarm')\n",
    "plt.title('스포츠 종목별 예측 정확도', fontsize=16)\n",
    "plt.xlabel('스포츠 종목', fontsize=12)\n",
    "plt.ylabel('정확도 (%)', fontsize=12)\n",
    "plt.ylim(0, 100) # 정확도는 0에서 100 사이이므로 y축 범위 설정\n",
    "\n",
    "# 각 막대 위에 정확도 값 표시\n",
    "for index, value in enumerate(sport_accuracy_series.values):\n",
    "    plt.text(index, value + 2, f\"{value:.2f}%\", ha='center', va='bottom', fontsize=10)\n",
    "\n",
    "plt.tight_layout()\n",
    "plt.show()"
   ]
  },
  {
   "cell_type": "markdown",
   "id": "5c368796",
   "metadata": {},
   "source": [
    "- Football과 Hockey에서만 무승부 존재 -> 예측 정확도가 떨어지는 원인일지도"
   ]
  },
  {
   "cell_type": "markdown",
   "id": "dc4ac5c1",
   "metadata": {},
   "source": [
    "#### 결측치 분석"
   ]
  },
  {
   "cell_type": "code",
   "execution_count": 17,
   "id": "cb522420",
   "metadata": {},
   "outputs": [
    {
     "name": "stdout",
     "output_type": "stream",
     "text": [
      "Home_Team_Odds 컬럼에 NaN 값이 있는 행의 수: 71개\n",
      "\n",
      "Home_Team_Odds_NaN 데이터프레임의 상위 5개 행:\n",
      "   Match_ID        Date       Sport                 Home_Team  \\\n",
      "45   M00046  2024-07-18      Hockey  North Autumnville Eagles   \n",
      "55   M00056  2025-07-05  Basketball          Cooperview Bears   \n",
      "59   M00060  2024-01-25    Baseball         Port Cheryl Lions   \n",
      "67   M00068  2023-08-27      Tennis        Chelseaview Eagles   \n",
      "70   M00071  2025-02-19    Baseball           Martinton Lions   \n",
      "\n",
      "                 Away_Team  Home_Team_Odds  Away_Team_Odds  Draw_Odds  \\\n",
      "45        Scottshire Bears             NaN            2.30       4.69   \n",
      "55         Davisfurt Lions             NaN            4.66        NaN   \n",
      "59      Schwartzfort Bears             NaN            2.56        NaN   \n",
      "67    Michellemouth Tigers             NaN             NaN        NaN   \n",
      "70  Port Deannastad Eagles             NaN            2.35        NaN   \n",
      "\n",
      "          Predicted_Winner         Actual_Winner  \n",
      "45        Scottshire Bears                  Draw  \n",
      "55         Davisfurt Lions      Cooperview Bears  \n",
      "59       Port Cheryl Lions    Schwartzfort Bears  \n",
      "67      Chelseaview Eagles  Michellemouth Tigers  \n",
      "70  Port Deannastad Eagles       Martinton Lions  \n"
     ]
    }
   ],
   "source": [
    "# 'Home_Team_Odds' 컬럼에서 NaN 값의 개수를 계산합니다.\n",
    "nan_count = df['Home_Team_Odds'].isna().sum()\n",
    "\n",
    "print(f\"Home_Team_Odds 컬럼에 NaN 값이 있는 행의 수: {nan_count}개\\n\")\n",
    "\n",
    "# 'Home_Team_Odds' 컬럼이 NaN인 행들만 필터링하여 새로운 데이터프레임을 생성합니다.\n",
    "Home_Team_Odds_NaN = df[df['Home_Team_Odds'].isna()].copy()\n",
    "\n",
    "print(\"Home_Team_Odds_NaN 데이터프레임의 상위 5개 행:\")\n",
    "print(Home_Team_Odds_NaN.head())\n",
    "\n",
    "# (옵션) 새로운 데이터프레임의 정보 확인\n",
    "# print(\"\\nHome_Team_Odds_NaN 데이터프레임 정보:\")\n",
    "# Home_Team_Odds_NaN.info()"
   ]
  },
  {
   "cell_type": "code",
   "execution_count": 19,
   "id": "f59dcab0",
   "metadata": {},
   "outputs": [
    {
     "name": "stdout",
     "output_type": "stream",
     "text": [
      "Away_Team_Odds 컬럼에 NaN 값이 있는 행의 수: 87개\n",
      "\n",
      "Away_Team_Odds_NaN 데이터프레임의 상위 5개 행:\n",
      "   Match_ID        Date       Sport             Home_Team  \\\n",
      "1    M00002  2025-05-03  Basketball       Rothstad Wolves   \n",
      "19   M00020  2024-03-19    Baseball    Cameronberg Wolves   \n",
      "67   M00068  2023-08-27      Tennis    Chelseaview Eagles   \n",
      "74   M00075  2023-08-19    Baseball        Choiport Lions   \n",
      "96   M00097  2024-01-10  Basketball  Valenciamouth Eagles   \n",
      "\n",
      "                    Away_Team  Home_Team_Odds  Away_Team_Odds  Draw_Odds  \\\n",
      "1         North Manuel Eagles            1.84             NaN        NaN   \n",
      "19          Paulamouth Eagles            4.81             NaN        NaN   \n",
      "67       Michellemouth Tigers             NaN             NaN        NaN   \n",
      "74         North Andrew Bears            4.77             NaN        NaN   \n",
      "96  East Williamborough Bears            2.09             NaN        NaN   \n",
      "\n",
      "        Predicted_Winner              Actual_Winner  \n",
      "1        Rothstad Wolves            Rothstad Wolves  \n",
      "19     Paulamouth Eagles         Cameronberg Wolves  \n",
      "67    Chelseaview Eagles       Michellemouth Tigers  \n",
      "74        Choiport Lions         North Andrew Bears  \n",
      "96  Valenciamouth Eagles  East Williamborough Bears  \n"
     ]
    }
   ],
   "source": [
    "# 'Away_Team_Odds' 컬럼에서 NaN 값의 개수를 계산합니다.\n",
    "nan_count = df['Away_Team_Odds'].isna().sum()\n",
    "\n",
    "print(f\"Away_Team_Odds 컬럼에 NaN 값이 있는 행의 수: {nan_count}개\\n\")\n",
    "\n",
    "# 'Away_Team_Odds' 컬럼이 NaN인 행들만 필터링하여 새로운 데이터프레임을 생성합니다.\n",
    "Away_Team_Odds_NaN = df[df['Away_Team_Odds'].isna()].copy()\n",
    "\n",
    "print(\"Away_Team_Odds_NaN 데이터프레임의 상위 5개 행:\")\n",
    "print(Away_Team_Odds_NaN.head())\n",
    "\n",
    "# (옵션) 새로운 데이터프레임의 정보 확인\n",
    "# print(\"\\nAway_Team_Odds_NaN 데이터프레임 정보:\")\n",
    "# Away_Team_Odds_NaN.info()"
   ]
  },
  {
   "cell_type": "code",
   "execution_count": 21,
   "id": "9af8ec22",
   "metadata": {},
   "outputs": [
    {
     "name": "stdout",
     "output_type": "stream",
     "text": [
      "Football and Hockey 종목에서 Draw_Odds 컬럼에 NaN 값이 있는 행의 수: 30개\n",
      "\n",
      "Draw_Odds_NaN 데이터프레임의 상위 5개 행:\n",
      "    Match_ID        Date     Sport          Home_Team  \\\n",
      "20    M00021  2024-09-16  Football  Camposville Bears   \n",
      "165   M00166  2024-07-06    Hockey   Port Lisa Wolves   \n",
      "178   M00179  2023-08-08    Hockey  Michaelland Bears   \n",
      "191   M00192  2024-03-13  Football   Karenburgh Bears   \n",
      "261   M00262  2025-07-07  Football  South John Tigers   \n",
      "\n",
      "                      Away_Team  Home_Team_Odds  Away_Team_Odds  Draw_Odds  \\\n",
      "20   Lake Kimberlychester Lions            3.40            1.52        NaN   \n",
      "165            New Brett Tigers             NaN            4.15        NaN   \n",
      "178          Port Debbie Tigers            4.18            2.43        NaN   \n",
      "191   South Robertchester Lions            1.21             NaN        NaN   \n",
      "261            Rosemouth Wolves            1.53            2.73        NaN   \n",
      "\n",
      "              Predicted_Winner               Actual_Winner  \n",
      "20           Camposville Bears  Lake Kimberlychester Lions  \n",
      "165                       Draw            Port Lisa Wolves  \n",
      "178          Michaelland Bears          Port Debbie Tigers  \n",
      "191  South Robertchester Lions   South Robertchester Lions  \n",
      "261           Rosemouth Wolves            Rosemouth Wolves  \n"
     ]
    }
   ],
   "source": [
    "# Filter the DataFrame for 'Football' and 'Hockey' sports\n",
    "df_football_hockey = df[df['Sport'].isin(['Football', 'Hockey'])]\n",
    "\n",
    "# Count NaN values in 'Draw_Odds' for the filtered DataFrame\n",
    "draw_odds_nan_count = df_football_hockey['Draw_Odds'].isna().sum()\n",
    "\n",
    "print(f\"Football and Hockey 종목에서 Draw_Odds 컬럼에 NaN 값이 있는 행의 수: {draw_odds_nan_count}개\\n\")\n",
    "\n",
    "# Create a new DataFrame with rows where 'Sport' is Football or Hockey AND 'Draw_Odds' is NaN\n",
    "Draw_Odds_NaN = df_football_hockey[df_football_hockey['Draw_Odds'].isna()].copy()\n",
    "\n",
    "print(\"Draw_Odds_NaN 데이터프레임의 상위 5개 행:\")\n",
    "print(Draw_Odds_NaN.head())\n",
    "\n",
    "# (Optional) Print the shape of the new DataFrame to confirm the number of rows and columns\n",
    "# print(f\"\\nDraw_Odds_NaN 데이터프레임의 형태: {Draw_Odds_NaN.shape}\")\n",
    "\n",
    "# (Optional) Check the 'Sport' values in the new DataFrame to confirm the filter\n",
    "# print(\"\\nDraw_Odds_NaN 데이터프레임의 Sport 컬럼 고유값:\")\n",
    "# print(Draw_Odds_NaN['Sport'].unique())\n",
    "\n",
    "# (Optional) Check for NaN values in 'Draw_Odds' within the new DataFrame\n",
    "# print(\"\\nDraw_Odds_NaN 데이터프레임의 Draw_Odds NaN 값 확인:\")\n",
    "# print(Draw_Odds_NaN['Draw_Odds'].isna().sum())"
   ]
  },
  {
   "cell_type": "code",
   "execution_count": 23,
   "id": "143fec4f",
   "metadata": {},
   "outputs": [
    {
     "name": "stdout",
     "output_type": "stream",
     "text": [
      "Predicted_Winner 또는 Actual_Winner가 'Draw'인 경기들:\n",
      "   Match_ID        Date     Sport          Home_Team           Away_Team  \\\n",
      "11   M00012  2024-11-03    Hockey  Brownmouth Tigers   Smithmouth Wolves   \n",
      "17   M00018  2024-03-23  Football   Lake Corey Bears  Lorettaland Wolves   \n",
      "18   M00019  2025-04-07  Football  Port Sharon Lions   Torresland Tigers   \n",
      "22   M00023  2024-04-10  Football    Kevinland Lions   South Adam Wolves   \n",
      "24   M00025  2024-04-30  Football   Terryhaven Lions      New Lisa Lions   \n",
      "\n",
      "    Home_Team_Odds  Away_Team_Odds  Draw_Odds  Predicted_Winner  \\\n",
      "11            4.79            2.43       4.12              Draw   \n",
      "17            1.40            2.25       4.28  Lake Corey Bears   \n",
      "18            3.57            1.50       1.62              Draw   \n",
      "22            4.83            1.61       4.27              Draw   \n",
      "24            4.51            4.07       3.03              Draw   \n",
      "\n",
      "        Actual_Winner  \n",
      "11  Brownmouth Tigers  \n",
      "17               Draw  \n",
      "18               Draw  \n",
      "22               Draw  \n",
      "24               Draw  \n",
      "\n",
      "'Draw' 결과가 포함된 총 경기 수: 303개\n",
      "\n",
      "'Draw' 결과가 포함된 경기들의 스포츠 종목별 분포:\n",
      "Sport\n",
      "Football    161\n",
      "Hockey      142\n",
      "Name: count, dtype: int64\n"
     ]
    }
   ],
   "source": [
    "# 'Predicted_Winner'가 'Draw'이거나 'Actual_Winner'가 'Draw'인 행들을 필터링합니다.\n",
    "draw_matches = df[(df['Predicted_Winner'] == 'Draw') | (df['Actual_Winner'] == 'Draw')].copy()\n",
    "\n",
    "print(\"Predicted_Winner 또는 Actual_Winner가 'Draw'인 경기들:\")\n",
    "print(draw_matches.head())\n",
    "\n",
    "# (옵션) 필터링된 데이터프레임의 크기 확인\n",
    "print(f\"\\n'Draw' 결과가 포함된 총 경기 수: {len(draw_matches)}개\")\n",
    "\n",
    "# (옵션) 'Draw' 결과가 포함된 경기들의 Sport 분포 확인\n",
    "print(\"\\n'Draw' 결과가 포함된 경기들의 스포츠 종목별 분포:\")\n",
    "print(draw_matches['Sport'].value_counts())"
   ]
  }
 ],
 "metadata": {
  "kernelspec": {
   "display_name": "Python 3",
   "language": "python",
   "name": "python3"
  },
  "language_info": {
   "codemirror_mode": {
    "name": "ipython",
    "version": 3
   },
   "file_extension": ".py",
   "mimetype": "text/x-python",
   "name": "python",
   "nbconvert_exporter": "python",
   "pygments_lexer": "ipython3",
   "version": "3.10.4"
  }
 },
 "nbformat": 4,
 "nbformat_minor": 5
}
